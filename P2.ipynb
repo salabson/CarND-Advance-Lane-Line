{
 "cells": [
  {
   "cell_type": "code",
   "execution_count": 23,
   "metadata": {},
   "outputs": [],
   "source": [
    "import numpy as np\n",
    "import matplotlib.pyplot as plt\n",
    "import matplotlib.image as mpimg\n",
    "import cv2\n",
    "import glob"
   ]
  },
  {
   "cell_type": "code",
   "execution_count": 27,
   "metadata": {},
   "outputs": [],
   "source": [
    "def measure_distortion():\n",
    "    \n",
    "    # prepare object points\n",
    "    nx = 9\n",
    "    ny = 6\n",
    "    objpoints =[]\n",
    "    imgpoints  = []\n",
    "    objp = np.zeros((6*9, 3), np.float32)\n",
    "    objp[:,:2] =np.mgrid[0:9, 0:6].T.reshape(-1,2)\n",
    "\n",
    "\n",
    "    # Get list of calibarion images\n",
    "    fnames = glob.glob('camera_cal/*.jpg')\n",
    "\n",
    "    for fname in fnames:\n",
    "    \n",
    "        # Read image\n",
    "        img = cv2.imread(fname)\n",
    "\n",
    "        # Convert image to gray\n",
    "        gray = cv2.cvtColor(img, cv2.COLOR_BGR2GRAY)\n",
    "\n",
    "        # Find corners\n",
    "        ret, corners = cv2.findChessboardCorners(gray, (nx, ny), None)\n",
    "\n",
    "        # Check if corners are found\n",
    "        if ret == True:\n",
    "            objpoints.append(objp)\n",
    "            imgpoints.append(corners)\n",
    "            #Draw corners on the original image\n",
    "            cv2.drawChessboardCorners(img, (nx, ny), corners, ret)\n",
    "            plt.imshow(img)\n",
    "    return objpoints, imgpoints"
   ]
  },
  {
   "cell_type": "code",
   "execution_count": 25,
   "metadata": {},
   "outputs": [],
   "source": [
    "def correct_distortion(img, objpoints, imgpoints):\n",
    "    # Calibrate camera\n",
    "    ret, mtx, dist, rvecs, tvecs = cv2.calibrateCamera(objpoints, imgpoints, img.shape[1::-1], None, None)\n",
    "    undistort = cv2.undistort(img, mtx, dist, None, mtx)"
   ]
  },
  {
   "cell_type": "code",
   "execution_count": null,
   "metadata": {},
   "outputs": [],
   "source": []
  },
  {
   "cell_type": "code",
   "execution_count": null,
   "metadata": {},
   "outputs": [],
   "source": []
  },
  {
   "cell_type": "code",
   "execution_count": null,
   "metadata": {},
   "outputs": [],
   "source": []
  }
 ],
 "metadata": {
  "kernelspec": {
   "display_name": "Python 3",
   "language": "python",
   "name": "python3"
  },
  "language_info": {
   "codemirror_mode": {
    "name": "ipython",
    "version": 3
   },
   "file_extension": ".py",
   "mimetype": "text/x-python",
   "name": "python",
   "nbconvert_exporter": "python",
   "pygments_lexer": "ipython3",
   "version": "3.7.4"
  }
 },
 "nbformat": 4,
 "nbformat_minor": 2
}
